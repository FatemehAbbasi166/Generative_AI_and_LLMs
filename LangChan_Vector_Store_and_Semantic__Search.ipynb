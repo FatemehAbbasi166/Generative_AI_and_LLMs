{
  "nbformat": 4,
  "nbformat_minor": 0,
  "metadata": {
    "colab": {
      "provenance": [],
      "authorship_tag": "ABX9TyPH66HqZaQ46scIChTDXiQn",
      "include_colab_link": true
    },
    "kernelspec": {
      "name": "python3",
      "display_name": "Python 3"
    },
    "language_info": {
      "name": "python"
    }
  },
  "cells": [
    {
      "cell_type": "markdown",
      "metadata": {
        "id": "view-in-github",
        "colab_type": "text"
      },
      "source": [
        "<a href=\"https://colab.research.google.com/github/FatemehAbbasi166/Generative_AI_and_LLMs/blob/main/LangChan_Vector_Store_and_Semantic__Search.ipynb\" target=\"_parent\"><img src=\"https://colab.research.google.com/assets/colab-badge.svg\" alt=\"Open In Colab\"/></a>"
      ]
    },
    {
      "cell_type": "code",
      "source": [
        "#! pip install langchain"
      ],
      "metadata": {
        "id": "-avVt9oCcN03"
      },
      "execution_count": 117,
      "outputs": []
    },
    {
      "cell_type": "code",
      "source": [
        "#! pip install pypdf"
      ],
      "metadata": {
        "id": "RUmKhYNmaCWY"
      },
      "execution_count": 118,
      "outputs": []
    },
    {
      "cell_type": "code",
      "source": [
        "#Load\n",
        "from langchain.document_loaders import PyPDFLoader\n",
        "loaders =[\n",
        "   PyPDFLoader(\"/content/machinelearning-lecture01.pdf\"),\n",
        "   PyPDFLoader(\"/content/MachineLearning-Lecture02.pdf\"),\n",
        "   PyPDFLoader(\"/content/MachineLearning-Lecture03.pdf\")\n",
        "]\n",
        "docs=[]\n",
        "for loader in loaders:\n",
        "  docs.extend(loader.load())"
      ],
      "metadata": {
        "id": "ztu2vWIpdfx_"
      },
      "execution_count": 84,
      "outputs": []
    },
    {
      "cell_type": "code",
      "source": [
        "len(docs)"
      ],
      "metadata": {
        "colab": {
          "base_uri": "https://localhost:8080/"
        },
        "id": "bNgkmgV4di2c",
        "outputId": "eb4e512b-0654-42ab-dfb7-87e1f37602b5"
      },
      "execution_count": 85,
      "outputs": [
        {
          "output_type": "execute_result",
          "data": {
            "text/plain": [
              "56"
            ]
          },
          "metadata": {},
          "execution_count": 85
        }
      ]
    },
    {
      "cell_type": "code",
      "source": [
        "#print(docs[0])"
      ],
      "metadata": {
        "id": "vQpqoZMjdmGI"
      },
      "execution_count": 119,
      "outputs": []
    },
    {
      "cell_type": "code",
      "source": [
        "#print(docs[50])"
      ],
      "metadata": {
        "id": "JU9yqxLmdzde"
      },
      "execution_count": 120,
      "outputs": []
    },
    {
      "cell_type": "code",
      "source": [
        "# Split\n",
        "from langchain_text_splitters import RecursiveCharacterTextSplitter\n",
        "text_splitter = RecursiveCharacterTextSplitter(\n",
        "    chunk_size=1500,\n",
        "    chunk_overlap=150\n",
        ")"
      ],
      "metadata": {
        "id": "vK1fMu5jeCLb"
      },
      "execution_count": 88,
      "outputs": []
    },
    {
      "cell_type": "code",
      "source": [
        "splits=text_splitter.split_documents(docs)"
      ],
      "metadata": {
        "id": "yTi_2UEcff17"
      },
      "execution_count": 89,
      "outputs": []
    },
    {
      "cell_type": "code",
      "source": [
        "#len(splits)"
      ],
      "metadata": {
        "id": "DrxnQTp0frAY"
      },
      "execution_count": 121,
      "outputs": []
    },
    {
      "cell_type": "code",
      "source": [
        "#!pip install openai"
      ],
      "metadata": {
        "id": "efXYD6Zyf00L"
      },
      "execution_count": 122,
      "outputs": []
    },
    {
      "cell_type": "code",
      "source": [
        "#!pip install tiktoken"
      ],
      "metadata": {
        "id": "HUoqku-HgM43"
      },
      "execution_count": 123,
      "outputs": []
    },
    {
      "cell_type": "code",
      "source": [
        "#my_key=\"Your Open AI API\""
      ],
      "metadata": {
        "id": "LpoSQETaiJYW"
      },
      "execution_count": 94,
      "outputs": []
    },
    {
      "cell_type": "code",
      "source": [
        "import openai\n",
        "import os\n",
        "os.environ[\"OPENAI_API_KEY\"]=my_key\n",
        "#openai.api_key=my_key"
      ],
      "metadata": {
        "id": "ckaOljd1i2tk"
      },
      "execution_count": 95,
      "outputs": []
    },
    {
      "cell_type": "code",
      "source": [
        "from langchain.embeddings.openai import OpenAIEmbeddings"
      ],
      "metadata": {
        "id": "78Ihc9btjPai"
      },
      "execution_count": 96,
      "outputs": []
    },
    {
      "cell_type": "code",
      "source": [
        "embedding = OpenAIEmbeddings()"
      ],
      "metadata": {
        "id": "8H_NIRWNjcUG"
      },
      "execution_count": 97,
      "outputs": []
    },
    {
      "cell_type": "code",
      "source": [
        "#!pip install chromadb langchain"
      ],
      "metadata": {
        "id": "KAfixCGColZW"
      },
      "execution_count": 124,
      "outputs": []
    },
    {
      "cell_type": "code",
      "source": [
        "#from langchain.vectorstores import Chroma\n",
        "\n",
        "#vectordb = Chroma.from_documents(\n",
        "    #documents=splits,\n",
        "    #embedding=embedding,\n",
        "    # persist_directory=\"data\" )\n"
      ],
      "metadata": {
        "id": "uhOlneaYnEwo"
      },
      "execution_count": 125,
      "outputs": []
    },
    {
      "cell_type": "code",
      "source": [
        "#len(vectordb)"
      ],
      "metadata": {
        "id": "3aBgaFywoqqE"
      },
      "execution_count": 126,
      "outputs": []
    },
    {
      "cell_type": "code",
      "source": [
        "#question=\"Is there an email I can ask for help\""
      ],
      "metadata": {
        "id": "IY_HzPZcpG5y"
      },
      "execution_count": 109,
      "outputs": []
    },
    {
      "cell_type": "code",
      "source": [
        "#results= vectordb.similarity_search(\n",
        "    #question,\n",
        "    #k=5\n",
        "#)"
      ],
      "metadata": {
        "id": "qXY8ogR9pXGu"
      },
      "execution_count": 127,
      "outputs": []
    },
    {
      "cell_type": "code",
      "source": [
        "#len(results)"
      ],
      "metadata": {
        "id": "L7XftIrKpigC"
      },
      "execution_count": 128,
      "outputs": []
    },
    {
      "cell_type": "code",
      "source": [
        "#results[0]"
      ],
      "metadata": {
        "id": "0oyOm_lvqL5a"
      },
      "execution_count": 129,
      "outputs": []
    },
    {
      "cell_type": "code",
      "source": [
        "#results[1]"
      ],
      "metadata": {
        "id": "oFI-1CYFqQmF"
      },
      "execution_count": 130,
      "outputs": []
    },
    {
      "cell_type": "code",
      "source": [
        "#results[2].metadata"
      ],
      "metadata": {
        "id": "rN2lHkPgqVPg"
      },
      "execution_count": 131,
      "outputs": []
    },
    {
      "cell_type": "code",
      "source": [
        "#for d in results:\n",
        "  #print(d.metadata)"
      ],
      "metadata": {
        "id": "0pyR4IdBqmd1"
      },
      "execution_count": 132,
      "outputs": []
    }
  ]
}